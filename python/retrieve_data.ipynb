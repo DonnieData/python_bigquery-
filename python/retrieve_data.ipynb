{
 "cells": [
  {
   "cell_type": "code",
   "execution_count": 16,
   "metadata": {},
   "outputs": [],
   "source": [
    "#import dependencies\n",
    "import pandas as pd\n",
    "import os\n",
    "import numpy as np \n",
    "import requests\n",
    "from datetime import datetime\n",
    "from datetime import date\n",
    "from google.cloud import bigquery"
   ]
  },
  {
   "cell_type": "code",
   "execution_count": 11,
   "metadata": {},
   "outputs": [],
   "source": [
    "#connect to BigQuery\n",
    "os.environ['GOOGLE_APPLICATION_CREDENTIALS'] = \"credentials.json\"\n",
    "client = bigquery.Client()\n",
    "\n",
    "#endpoint for data\n",
    "endpoint = \"https://www.dallasopendata.com/resource/d7e7-envw.json?$limit=500000&$where=created_date between '2022-01-01T00:00:00.000' and '2022-12-31T23:59:59.000'\"\n",
    "\n",
    "data = requests.get(url=endpoint)\n",
    "l1_df = pd.DataFrame(data.json())"
   ]
  },
  {
   "cell_type": "code",
   "execution_count": 48,
   "metadata": {},
   "outputs": [
    {
     "data": {
      "text/html": [
       "<div>\n",
       "<style scoped>\n",
       "    .dataframe tbody tr th:only-of-type {\n",
       "        vertical-align: middle;\n",
       "    }\n",
       "\n",
       "    .dataframe tbody tr th {\n",
       "        vertical-align: top;\n",
       "    }\n",
       "\n",
       "    .dataframe thead th {\n",
       "        text-align: right;\n",
       "    }\n",
       "</style>\n",
       "<table border=\"1\" class=\"dataframe\">\n",
       "  <thead>\n",
       "    <tr style=\"text-align: right;\">\n",
       "      <th></th>\n",
       "      <th>service_request_number</th>\n",
       "      <th>address</th>\n",
       "      <th>city_council_district</th>\n",
       "      <th>department</th>\n",
       "      <th>service_request_type</th>\n",
       "      <th>ert_estimated_response_time</th>\n",
       "      <th>overall_service_request_due_date</th>\n",
       "      <th>status</th>\n",
       "      <th>created_date</th>\n",
       "      <th>update_date</th>\n",
       "      <th>closed_date</th>\n",
       "      <th>outcome</th>\n",
       "      <th>priority</th>\n",
       "      <th>method_received_description</th>\n",
       "      <th>unique_key</th>\n",
       "      <th>lat_location</th>\n",
       "    </tr>\n",
       "  </thead>\n",
       "  <tbody>\n",
       "    <tr>\n",
       "      <th>0</th>\n",
       "      <td>21-01005382</td>\n",
       "      <td>4906 CROZIER ST, DALLAS, TX, 75215</td>\n",
       "      <td>7</td>\n",
       "      <td>311 Customer Service Center</td>\n",
       "      <td>Miscellaneous Service Request - 311</td>\n",
       "      <td>5 Business Days</td>\n",
       "      <td>2022-01-15T00:59:00.000</td>\n",
       "      <td>Closed</td>\n",
       "      <td>2022-01-01T00:02:44.000</td>\n",
       "      <td>2022-01-03T10:48:00.000</td>\n",
       "      <td>2022-01-01T00:02:44.000</td>\n",
       "      <td>No Action Required</td>\n",
       "      <td>Standard</td>\n",
       "      <td>Web</td>\n",
       "      <td>500t000000vJ8a4AAC</td>\n",
       "      <td>(32.75139935372935400,-96.75559389987559000)</td>\n",
       "    </tr>\n",
       "    <tr>\n",
       "      <th>1</th>\n",
       "      <td>21-01005383</td>\n",
       "      <td>4911 TREMONT ST, DALLAS, TX, 75214</td>\n",
       "      <td>14</td>\n",
       "      <td>Sanitation</td>\n",
       "      <td>Sanitation Missed Recycle - SAN</td>\n",
       "      <td>2 Business Days</td>\n",
       "      <td>2022-01-06T00:59:00.000</td>\n",
       "      <td>Closed (Duplicate)</td>\n",
       "      <td>2022-01-01T00:05:47.000</td>\n",
       "      <td>2022-01-03T10:19:58.000</td>\n",
       "      <td>2022-01-01T00:05:47.000</td>\n",
       "      <td>Investigation Complete</td>\n",
       "      <td>Standard</td>\n",
       "      <td>API</td>\n",
       "      <td>500t000000vJ8aJAAS</td>\n",
       "      <td>(32.79813420655468000,-96.76665506831475000)</td>\n",
       "    </tr>\n",
       "    <tr>\n",
       "      <th>2</th>\n",
       "      <td>21-01005384</td>\n",
       "      <td>3128 ORADELL LN, DALLAS, TX, 75220</td>\n",
       "      <td>2</td>\n",
       "      <td>311 Customer Service Center</td>\n",
       "      <td>Miscellaneous Service Request - 311</td>\n",
       "      <td>5 Business Days</td>\n",
       "      <td>2022-01-15T00:59:00.000</td>\n",
       "      <td>Closed</td>\n",
       "      <td>2022-01-01T00:07:15.000</td>\n",
       "      <td>2022-01-03T15:01:04.000</td>\n",
       "      <td>2022-01-01T00:07:15.000</td>\n",
       "      <td>No Action Required</td>\n",
       "      <td>Standard</td>\n",
       "      <td>Web</td>\n",
       "      <td>500t000000vJ8aAAAS</td>\n",
       "      <td>(32.85873369534355000,-96.86653295794424000)</td>\n",
       "    </tr>\n",
       "    <tr>\n",
       "      <th>3</th>\n",
       "      <td>21-01005385</td>\n",
       "      <td>3212 WOODWIND LN, DALLAS, TX, 75229</td>\n",
       "      <td>13</td>\n",
       "      <td>Sanitation</td>\n",
       "      <td>Sanitation Missed Brush/Bulk - SAN</td>\n",
       "      <td>5 Business Days</td>\n",
       "      <td>2022-01-12T00:59:00.000</td>\n",
       "      <td>Closed</td>\n",
       "      <td>2022-01-01T00:09:10.000</td>\n",
       "      <td>2022-01-05T11:42:27.000</td>\n",
       "      <td>2022-01-01T00:09:10.000</td>\n",
       "      <td>No Action Required</td>\n",
       "      <td>Standard</td>\n",
       "      <td>API</td>\n",
       "      <td>500t000000vJ8aTAAS</td>\n",
       "      <td>(32.89208122577750000,-96.87272207439062000)</td>\n",
       "    </tr>\n",
       "    <tr>\n",
       "      <th>4</th>\n",
       "      <td>21-01005386</td>\n",
       "      <td>2527 TEALFORD DR, DALLAS, TX, 75228</td>\n",
       "      <td>9</td>\n",
       "      <td>Police Department</td>\n",
       "      <td>Chronic Noise Complaint - DPD</td>\n",
       "      <td>3 Business Days</td>\n",
       "      <td>2022-01-12T00:59:00.000</td>\n",
       "      <td>Closed</td>\n",
       "      <td>2022-01-01T00:09:32.000</td>\n",
       "      <td>2022-01-11T07:55:45.000</td>\n",
       "      <td>2022-01-01T00:09:32.000</td>\n",
       "      <td>Investigation Complete</td>\n",
       "      <td>Standard</td>\n",
       "      <td>API</td>\n",
       "      <td>500t000000vJ8aYAAS</td>\n",
       "      <td>(32.84034249589199600,-96.67037365774891000)</td>\n",
       "    </tr>\n",
       "  </tbody>\n",
       "</table>\n",
       "</div>"
      ],
      "text/plain": [
       "  service_request_number                              address  \\\n",
       "0            21-01005382   4906 CROZIER ST, DALLAS, TX, 75215   \n",
       "1            21-01005383   4911 TREMONT ST, DALLAS, TX, 75214   \n",
       "2            21-01005384   3128 ORADELL LN, DALLAS, TX, 75220   \n",
       "3            21-01005385  3212 WOODWIND LN, DALLAS, TX, 75229   \n",
       "4            21-01005386  2527 TEALFORD DR, DALLAS, TX, 75228   \n",
       "\n",
       "  city_council_district                   department  \\\n",
       "0                     7  311 Customer Service Center   \n",
       "1                    14                   Sanitation   \n",
       "2                     2  311 Customer Service Center   \n",
       "3                    13                   Sanitation   \n",
       "4                     9            Police Department   \n",
       "\n",
       "                  service_request_type ert_estimated_response_time  \\\n",
       "0  Miscellaneous Service Request - 311             5 Business Days   \n",
       "1      Sanitation Missed Recycle - SAN             2 Business Days   \n",
       "2  Miscellaneous Service Request - 311             5 Business Days   \n",
       "3   Sanitation Missed Brush/Bulk - SAN             5 Business Days   \n",
       "4        Chronic Noise Complaint - DPD             3 Business Days   \n",
       "\n",
       "  overall_service_request_due_date              status  \\\n",
       "0          2022-01-15T00:59:00.000              Closed   \n",
       "1          2022-01-06T00:59:00.000  Closed (Duplicate)   \n",
       "2          2022-01-15T00:59:00.000              Closed   \n",
       "3          2022-01-12T00:59:00.000              Closed   \n",
       "4          2022-01-12T00:59:00.000              Closed   \n",
       "\n",
       "              created_date              update_date              closed_date  \\\n",
       "0  2022-01-01T00:02:44.000  2022-01-03T10:48:00.000  2022-01-01T00:02:44.000   \n",
       "1  2022-01-01T00:05:47.000  2022-01-03T10:19:58.000  2022-01-01T00:05:47.000   \n",
       "2  2022-01-01T00:07:15.000  2022-01-03T15:01:04.000  2022-01-01T00:07:15.000   \n",
       "3  2022-01-01T00:09:10.000  2022-01-05T11:42:27.000  2022-01-01T00:09:10.000   \n",
       "4  2022-01-01T00:09:32.000  2022-01-11T07:55:45.000  2022-01-01T00:09:32.000   \n",
       "\n",
       "                  outcome  priority method_received_description  \\\n",
       "0      No Action Required  Standard                         Web   \n",
       "1  Investigation Complete  Standard                         API   \n",
       "2      No Action Required  Standard                         Web   \n",
       "3      No Action Required  Standard                         API   \n",
       "4  Investigation Complete  Standard                         API   \n",
       "\n",
       "           unique_key                                  lat_location  \n",
       "0  500t000000vJ8a4AAC  (32.75139935372935400,-96.75559389987559000)  \n",
       "1  500t000000vJ8aJAAS  (32.79813420655468000,-96.76665506831475000)  \n",
       "2  500t000000vJ8aAAAS  (32.85873369534355000,-96.86653295794424000)  \n",
       "3  500t000000vJ8aTAAS  (32.89208122577750000,-96.87272207439062000)  \n",
       "4  500t000000vJ8aYAAS  (32.84034249589199600,-96.67037365774891000)  "
      ]
     },
     "execution_count": 48,
     "metadata": {},
     "output_type": "execute_result"
    }
   ],
   "source": [
    "l1_df.head()"
   ]
  },
  {
   "cell_type": "code",
   "execution_count": 49,
   "metadata": {},
   "outputs": [
    {
     "data": {
      "text/plain": [
       "Index(['service_request_number', 'address', 'city_council_district',\n",
       "       'department', 'service_request_type', 'ert_estimated_response_time',\n",
       "       'overall_service_request_due_date', 'status', 'created_date',\n",
       "       'update_date', 'closed_date', 'outcome', 'priority',\n",
       "       'method_received_description', 'unique_key', 'lat_location'],\n",
       "      dtype='object')"
      ]
     },
     "execution_count": 49,
     "metadata": {},
     "output_type": "execute_result"
    }
   ],
   "source": [
    "l1_df.columns"
   ]
  },
  {
   "cell_type": "code",
   "execution_count": null,
   "metadata": {},
   "outputs": [],
   "source": [
    "def "
   ]
  },
  {
   "cell_type": "code",
   "execution_count": 50,
   "metadata": {},
   "outputs": [],
   "source": [
    "schema = [\n",
    "    {'name':'expiration_MY', 'type':'STRING'},\n",
    "    {'name':'created_date', 'type':'DATE'},\n",
    "    {'name':'update_date', 'type':'DATE'},\n",
    "    {'name':'closed_date', 'type':'DATE'}   \n",
    "]"
   ]
  },
  {
   "cell_type": "code",
   "execution_count": 52,
   "metadata": {},
   "outputs": [],
   "source": [
    "project_id = project_id"
   ]
  },
  {
   "cell_type": "code",
   "execution_count": null,
   "metadata": {},
   "outputs": [],
   "source": [
    "l1_df.to_gbq('qwiklabs-gcp-00-9ff4d5371eda.l1_datasets.311_data', if_exists='replace')"
   ]
  },
  {
   "cell_type": "code",
   "execution_count": null,
   "metadata": {},
   "outputs": [],
   "source": [
    "#build socorata query to filter by month "
   ]
  },
  {
   "cell_type": "code",
   "execution_count": null,
   "metadata": {},
   "outputs": [],
   "source": [
    "\"https://data.austintexas.gov/resource/fdj4-gpfu.json?$limit=500000&$where=occ_date between '2018-01-01T00:00:00.000' and '2020-12-31T23:59:59.000'\\\""
   ]
  }
 ],
 "metadata": {
  "kernelspec": {
   "display_name": "PythonData",
   "language": "python",
   "name": "pythondata"
  },
  "language_info": {
   "codemirror_mode": {
    "name": "ipython",
    "version": 3
   },
   "file_extension": ".py",
   "mimetype": "text/x-python",
   "name": "python",
   "nbconvert_exporter": "python",
   "pygments_lexer": "ipython3",
   "version": "3.7.11"
  }
 },
 "nbformat": 4,
 "nbformat_minor": 4
}
